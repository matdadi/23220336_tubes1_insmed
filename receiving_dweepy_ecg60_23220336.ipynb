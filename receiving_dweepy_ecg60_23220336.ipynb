{
  "nbformat": 4,
  "nbformat_minor": 0,
  "metadata": {
    "colab": {
      "name": "receiving_dweepy_ecg60_23220336.ipynb",
      "provenance": [],
      "collapsed_sections": [],
      "authorship_tag": "ABX9TyNJ3ucvFrE4zUw1DRmPrIEm"
    },
    "kernelspec": {
      "name": "python3",
      "display_name": "Python 3"
    },
    "language_info": {
      "name": "python"
    }
  },
  "cells": [
    {
      "cell_type": "code",
      "metadata": {
        "id": "Hnvll9Pq-CtB"
      },
      "source": [
        "## Dadi Rahmat - 23220336\n",
        "# Tugas besar 1 Instrumentasi Biomedika - Sinyal ECG"
      ],
      "execution_count": null,
      "outputs": []
    },
    {
      "cell_type": "code",
      "metadata": {
        "id": "Saf94u3_8ST_"
      },
      "source": [
        "import dweepy\n",
        "import matplotlib.pyplot as plt\n",
        "from time import sleep\n",
        "from pytictoc import TicToc\n",
        "import numpy as np\n",
        "import pandas as pd"
      ],
      "execution_count": null,
      "outputs": []
    },
    {
      "cell_type": "code",
      "metadata": {
        "id": "j4TSRHrw8Ws6"
      },
      "source": [
        "signal = []\n",
        "heart_rate = 0\n",
        "hrv = 0"
      ],
      "execution_count": null,
      "outputs": []
    },
    {
      "cell_type": "code",
      "metadata": {
        "id": "1xxqOKuX8Ypj"
      },
      "source": [
        "for x in range(99999):\n",
        "    url = dweepy.get_latest_dweet_for(\"tb1_23220336\")\n",
        "    if(url[0][\"content\"][\"time\"]>=int(6000)):\n",
        "        print(\"break\");\n",
        "        break;\n",
        "    node = url[0][\"content\"][\"node\"]\n",
        "    heart_rate = url[0][\"content\"][\"hr\"]\n",
        "    hrv = url[0][\"content\"][\"hrv\"]\n",
        "    signal.append(node)\n",
        "    print(\"node: \", node, \"-- heart_rate: \", heart_rate, \"-- heart_rate_variability: \", hrv)\n",
        "    sleep(0.06)\n",
        "    "
      ],
      "execution_count": null,
      "outputs": []
    },
    {
      "cell_type": "code",
      "metadata": {
        "id": "eRUZiZQo8aQt"
      },
      "source": [
        "url2 = dweepy.get_latest_dweet_for(\"tb1_23220336\")\n",
        "result_hr = url[0][\"content\"][\"hr\"]\n",
        "result_hrv = url[0][\"content\"][\"hrv\"]\n",
        "\n",
        "print(\"Hasil heart rate =\", result_hr*10, \"bpm\")\n",
        "print(\"Hasil average heart rate variability =\", result_hrv, \"s\")"
      ],
      "execution_count": null,
      "outputs": []
    },
    {
      "cell_type": "code",
      "metadata": {
        "id": "IYrM1xRm8cD8"
      },
      "source": [
        "sig = np.array(signal)\n",
        "# np.savetxt(\"signal_ecg_23220336.csv\", sig, delimiter=\",\", fmt=\"%s\") ##save data to csv\n",
        "df_sig = pd.DataFrame(sig) ##data framing\n",
        "clean_sig = sig[sig!=''].astype(str).astype(float) ##data cleansing\n",
        "plt.plot(clean_sig) ##plot signal"
      ],
      "execution_count": null,
      "outputs": []
    }
  ]
}